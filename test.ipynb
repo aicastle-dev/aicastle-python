{
 "cells": [
  {
   "cell_type": "code",
   "execution_count": 3,
   "metadata": {},
   "outputs": [],
   "source": [
    "from aicastle.chat.utils import get_chat_file_hashes, load_system_text\n",
    "from aicastle.chat.content_manager import OpenAIContentManager\n",
    "from aicastle.chat.utils import load_config\n",
    "import aicastle.chat.function_call as fc\n",
    "from aicastle.chat.client import get_client, OpenAIChatManager\n",
    "from aicastle.chat.tokens import (\n",
    "    calculate_openai_messages_tokens_price,\n",
    "    calculate_openai_finetuning_messages_tokens_price\n",
    ")\n",
    "\n",
    "from dotenv import load_dotenv\n",
    "\n",
    "load_dotenv(\n",
    "    dotenv_path='.aicastle/chat/.env', \n",
    "    override=True  # 환경변수 덮어쓰기\n",
    ")\n",
    "\n",
    "config_data = load_config()"
   ]
  },
  {
   "cell_type": "code",
   "execution_count": 4,
   "metadata": {},
   "outputs": [
    {
     "name": "stdout",
     "output_type": "stream",
     "text": [
      " ============ incontext_messages (only text) ============ \n",
      "tokens_count: 11953 / total_price: 41.8355\n"
     ]
    }
   ],
   "source": [
    "chat_file_hashes = get_chat_file_hashes()\n",
    "incontext_messages = []\n",
    "for filepath in chat_file_hashes :\n",
    "    content_manager = OpenAIContentManager(filepath)\n",
    "    incontext_messages += content_manager.get_incontext_messages(\n",
    "        model = config_data[\"model\"],\n",
    "        max_tokens = config_data[\"incontext\"][\"max_tokens\"],\n",
    "        in_text = config_data[\"incontext\"][\"in_text\"],\n",
    "        in_image = config_data[\"incontext\"][\"in_image\"],\n",
    "        info_modified = False,\n",
    "        resolution=config_data[\"incontext\"][\"resolution\"],\n",
    "    )\n",
    "\n",
    "tokens_count, total_price = calculate_openai_messages_tokens_price(incontext_messages)\n",
    "print(\" ============ incontext_messages (only text) ============ \")\n",
    "print(f\"tokens_count: {tokens_count} / total_price: {total_price}\")\n",
    "\n",
    "chat_manager = OpenAIChatManager(\n",
    "    platform = config_data[\"platform\"],\n",
    "    chat_type = config_data[\"chat_type\"],\n",
    "    model = config_data[\"model\"],\n",
    "    assistant_id=config_data[\"assistant_id\"],\n",
    "    assistant_update=config_data[\"assistant_update\"],\n",
    "    temperature = config_data[\"temperature\"],\n",
    "    top_p = config_data[\"top_p\"],\n",
    "    stream = config_data[\"stream\"],\n",
    "    api_version = config_data[\"api_version\"],\n",
    "    additional_system_text = load_system_text(),\n",
    "    messages = incontext_messages,\n",
    "    function_call=config_data[\"function_call\"],\n",
    "    function_module=fc,\n",
    "    response=True,\n",
    ")\n"
   ]
  },
  {
   "cell_type": "code",
   "execution_count": 5,
   "metadata": {},
   "outputs": [
    {
     "name": "stdout",
     "output_type": "stream",
     "text": [
      "[user] 안녕\n",
      "[assistant] 안녕하세요! 어떻게 도와드릴까요?\n",
      "[user] ??\n",
      "[assistant] 무엇을 도와드릴까요? 궁금한 점이 있으면 말씀해 주세요!\n",
      "[user] \n",
      "[assistant] 무엇을 도와드릴까요? 궁금한 점이 있으면 말씀해 주세요!\n"
     ]
    },
    {
     "ename": "KeyboardInterrupt",
     "evalue": "Interrupted by user",
     "output_type": "error",
     "traceback": [
      "\u001b[0;31m---------------------------------------------------------------------------\u001b[0m",
      "\u001b[0;31mKeyboardInterrupt\u001b[0m                         Traceback (most recent call last)",
      "Cell \u001b[0;32mIn[5], line 4\u001b[0m\n\u001b[1;32m      1\u001b[0m \u001b[38;5;28;01mfor\u001b[39;00m user_count \u001b[38;5;129;01min\u001b[39;00m \u001b[38;5;28mrange\u001b[39m(\u001b[38;5;241m5\u001b[39m) :\n\u001b[1;32m      2\u001b[0m     \n\u001b[1;32m      3\u001b[0m     \u001b[38;5;66;03m########## 유저 입력\u001b[39;00m\n\u001b[0;32m----> 4\u001b[0m     user_input \u001b[38;5;241m=\u001b[39m \u001b[38;5;28;43minput\u001b[39;49m\u001b[43m(\u001b[49m\u001b[38;5;124;43m\"\u001b[39;49m\u001b[38;5;124;43m[user] \u001b[39;49m\u001b[38;5;124;43m\"\u001b[39;49m\u001b[43m)\u001b[49m\n\u001b[1;32m      5\u001b[0m     \u001b[38;5;28mprint\u001b[39m(\u001b[38;5;124mf\u001b[39m\u001b[38;5;124m\"\u001b[39m\u001b[38;5;124m[user] \u001b[39m\u001b[38;5;132;01m{\u001b[39;00muser_input\u001b[38;5;132;01m}\u001b[39;00m\u001b[38;5;124m\"\u001b[39m)\n\u001b[1;32m      7\u001b[0m     \u001b[38;5;66;03m########## 파일 변경 감지 \u001b[39;00m\n",
      "File \u001b[0;32m~/.local/lib/python3.12/site-packages/ipykernel/kernelbase.py:1282\u001b[0m, in \u001b[0;36mKernel.raw_input\u001b[0;34m(self, prompt)\u001b[0m\n\u001b[1;32m   1280\u001b[0m     msg \u001b[38;5;241m=\u001b[39m \u001b[38;5;124m\"\u001b[39m\u001b[38;5;124mraw_input was called, but this frontend does not support input requests.\u001b[39m\u001b[38;5;124m\"\u001b[39m\n\u001b[1;32m   1281\u001b[0m     \u001b[38;5;28;01mraise\u001b[39;00m StdinNotImplementedError(msg)\n\u001b[0;32m-> 1282\u001b[0m \u001b[38;5;28;01mreturn\u001b[39;00m \u001b[38;5;28;43mself\u001b[39;49m\u001b[38;5;241;43m.\u001b[39;49m\u001b[43m_input_request\u001b[49m\u001b[43m(\u001b[49m\n\u001b[1;32m   1283\u001b[0m \u001b[43m    \u001b[49m\u001b[38;5;28;43mstr\u001b[39;49m\u001b[43m(\u001b[49m\u001b[43mprompt\u001b[49m\u001b[43m)\u001b[49m\u001b[43m,\u001b[49m\n\u001b[1;32m   1284\u001b[0m \u001b[43m    \u001b[49m\u001b[38;5;28;43mself\u001b[39;49m\u001b[38;5;241;43m.\u001b[39;49m\u001b[43m_parent_ident\u001b[49m\u001b[43m[\u001b[49m\u001b[38;5;124;43m\"\u001b[39;49m\u001b[38;5;124;43mshell\u001b[39;49m\u001b[38;5;124;43m\"\u001b[39;49m\u001b[43m]\u001b[49m\u001b[43m,\u001b[49m\n\u001b[1;32m   1285\u001b[0m \u001b[43m    \u001b[49m\u001b[38;5;28;43mself\u001b[39;49m\u001b[38;5;241;43m.\u001b[39;49m\u001b[43mget_parent\u001b[49m\u001b[43m(\u001b[49m\u001b[38;5;124;43m\"\u001b[39;49m\u001b[38;5;124;43mshell\u001b[39;49m\u001b[38;5;124;43m\"\u001b[39;49m\u001b[43m)\u001b[49m\u001b[43m,\u001b[49m\n\u001b[1;32m   1286\u001b[0m \u001b[43m    \u001b[49m\u001b[43mpassword\u001b[49m\u001b[38;5;241;43m=\u001b[39;49m\u001b[38;5;28;43;01mFalse\u001b[39;49;00m\u001b[43m,\u001b[49m\n\u001b[1;32m   1287\u001b[0m \u001b[43m\u001b[49m\u001b[43m)\u001b[49m\n",
      "File \u001b[0;32m~/.local/lib/python3.12/site-packages/ipykernel/kernelbase.py:1325\u001b[0m, in \u001b[0;36mKernel._input_request\u001b[0;34m(self, prompt, ident, parent, password)\u001b[0m\n\u001b[1;32m   1322\u001b[0m \u001b[38;5;28;01mexcept\u001b[39;00m \u001b[38;5;167;01mKeyboardInterrupt\u001b[39;00m:\n\u001b[1;32m   1323\u001b[0m     \u001b[38;5;66;03m# re-raise KeyboardInterrupt, to truncate traceback\u001b[39;00m\n\u001b[1;32m   1324\u001b[0m     msg \u001b[38;5;241m=\u001b[39m \u001b[38;5;124m\"\u001b[39m\u001b[38;5;124mInterrupted by user\u001b[39m\u001b[38;5;124m\"\u001b[39m\n\u001b[0;32m-> 1325\u001b[0m     \u001b[38;5;28;01mraise\u001b[39;00m \u001b[38;5;167;01mKeyboardInterrupt\u001b[39;00m(msg) \u001b[38;5;28;01mfrom\u001b[39;00m \u001b[38;5;28;01mNone\u001b[39;00m\n\u001b[1;32m   1326\u001b[0m \u001b[38;5;28;01mexcept\u001b[39;00m \u001b[38;5;167;01mException\u001b[39;00m:\n\u001b[1;32m   1327\u001b[0m     \u001b[38;5;28mself\u001b[39m\u001b[38;5;241m.\u001b[39mlog\u001b[38;5;241m.\u001b[39mwarning(\u001b[38;5;124m\"\u001b[39m\u001b[38;5;124mInvalid Message:\u001b[39m\u001b[38;5;124m\"\u001b[39m, exc_info\u001b[38;5;241m=\u001b[39m\u001b[38;5;28;01mTrue\u001b[39;00m)\n",
      "\u001b[0;31mKeyboardInterrupt\u001b[0m: Interrupted by user"
     ]
    }
   ],
   "source": [
    "for user_count in range(5) :\n",
    "    \n",
    "    ########## 유저 입력\n",
    "    user_input = input(\"[user] \")\n",
    "    print(f\"[user] {user_input}\")\n",
    "\n",
    "    ########## 파일 변경 감지 \n",
    "    new_chat_file_hashes = get_chat_file_hashes()\n",
    "    new_incontext_messages = []\n",
    "    for filepath, file_hash in new_chat_file_hashes.items() :\n",
    "        \n",
    "        if (not filepath in chat_file_hashes) or (chat_file_hashes[filepath] != file_hash):\n",
    "            chat_file_hashes[filepath] = file_hash\n",
    "            # print(filepath)\n",
    "\n",
    "            content_manager = OpenAIContentManager(filepath)\n",
    "            new_incontext_messages += content_manager.get_incontext_messages(\n",
    "                model = config_data[\"model\"],\n",
    "                max_tokens = config_data[\"incontext\"][\"max_tokens\"],\n",
    "                in_text = config_data[\"incontext\"][\"in_text\"],\n",
    "                in_image = config_data[\"incontext\"][\"in_image\"],\n",
    "                info_modified = True,\n",
    "            )\n",
    "    if new_incontext_messages :\n",
    "        chat_manager.add_messages(new_incontext_messages)\n",
    "\n",
    "    ######### 유저 요청\n",
    "    user_message = {\"role\": \"user\", \"content\": [{\"type\": \"text\",\"text\": user_input}]}\n",
    "    result_container = chat_manager.create([user_message])\n",
    "\n",
    "    ########## assistant print\n",
    "    print(\"[assistant] \", end=\"\")\n",
    "    while True :\n",
    "        if result_container['done'] and (len(result_container['texts']) == 0):\n",
    "            print()\n",
    "            break\n",
    "        else :\n",
    "            try :\n",
    "                text = result_container[\"texts\"].pop(0)\n",
    "                print(text, end=\"\")\n",
    "            except :\n",
    "                pass\n",
    "\n",
    "    ########## submit_tool\n",
    "    while result_container['tool_call_need'] :\n",
    "        result_container = chat_manager.submit_tool_outputs(result_container['run'])\n",
    "        \n",
    "        ### assistant print\n",
    "        print(\"[assistant] \", end=\"\")\n",
    "        while True :\n",
    "            if result_container['done'] and (len(result_container['texts']) == 0):\n",
    "                print()\n",
    "                break\n",
    "            else :\n",
    "                try :\n",
    "                    text = result_container[\"texts\"].pop(0)\n",
    "                    print(text, end=\"\")\n",
    "                except :\n",
    "                    pass\n",
    "                \n",
    "            "
   ]
  }
 ],
 "metadata": {
  "kernelspec": {
   "display_name": "Python 3",
   "language": "python",
   "name": "python3"
  },
  "language_info": {
   "codemirror_mode": {
    "name": "ipython",
    "version": 3
   },
   "file_extension": ".py",
   "mimetype": "text/x-python",
   "name": "python",
   "nbconvert_exporter": "python",
   "pygments_lexer": "ipython3",
   "version": "3.12.1"
  }
 },
 "nbformat": 4,
 "nbformat_minor": 2
}
